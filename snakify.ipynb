{
 "cells": [
  {
   "cell_type": "markdown",
   "metadata": {},
   "source": [
    "# Lesson 1 : Input, print and numbers"
   ]
  },
  {
   "cell_type": "markdown",
   "metadata": {},
   "source": [
    "## Sum of three numbers\n",
    "Write a program that takes three numbers and prints their sum. Every number is given on a separate line."
   ]
  },
  {
   "cell_type": "code",
   "execution_count": 1,
   "metadata": {},
   "outputs": [
    {
     "name": "stdout",
     "output_type": "stream",
     "text": [
      "1\n",
      "2\n",
      "3\n",
      "6\n"
     ]
    }
   ],
   "source": [
    "a = int(input())\n",
    "b = int(input())\n",
    "c = int(input())\n",
    "print(a + b + c)"
   ]
  },
  {
   "cell_type": "markdown",
   "metadata": {},
   "source": [
    "## Hi John\n",
    "Write a program that greets the person by printing the word \"Hi\" and the name of the person. See the examples below."
   ]
  },
  {
   "cell_type": "code",
   "execution_count": 2,
   "metadata": {},
   "outputs": [
    {
     "name": "stdout",
     "output_type": "stream",
     "text": [
      "New\n",
      "Hi New\n"
     ]
    }
   ],
   "source": [
    "name = str(input())\n",
    "print(\"Hi \"+ name)"
   ]
  },
  {
   "cell_type": "markdown",
   "metadata": {},
   "source": [
    "## Square\n",
    "Write a program that takes a number and print its square."
   ]
  },
  {
   "cell_type": "code",
   "execution_count": 3,
   "metadata": {},
   "outputs": [
    {
     "name": "stdout",
     "output_type": "stream",
     "text": [
      "5\n",
      "25\n"
     ]
    }
   ],
   "source": [
    "a = int(input())\n",
    "print(a*a)"
   ]
  },
  {
   "cell_type": "markdown",
   "metadata": {},
   "source": [
    "## Area of right-angled triangle\n",
    "Write a program that reads the length of the base and the height of a right-angled triangle and prints the area. Every number is given on a separate line."
   ]
  },
  {
   "cell_type": "code",
   "execution_count": 4,
   "metadata": {},
   "outputs": [
    {
     "name": "stdout",
     "output_type": "stream",
     "text": [
      "3\n",
      "4\n",
      "6.0\n"
     ]
    }
   ],
   "source": [
    "# Read the numbers b and h like this:\n",
    "b = int(input())\n",
    "h = int(input())\n",
    "# Print the result with print()\n",
    "print(0.5*b*h)"
   ]
  },
  {
   "cell_type": "markdown",
   "metadata": {},
   "source": [
    "## Hello, Harry!\n",
    "Write a program that greets the user by printing the word \"Hello\", a comma, the name of the user and an exclamation mark after it. See the examples below.\n",
    "Warning. Your program's output should strictly match the desired one, character by character. There shouldn't be any space between the name and the exclamation mark. You can use + operator to concatenate two strings. See the lesson for details."
   ]
  },
  {
   "cell_type": "code",
   "execution_count": 5,
   "metadata": {},
   "outputs": [
    {
     "name": "stdout",
     "output_type": "stream",
     "text": [
      "Wit\n",
      "Hello, Wit!\n"
     ]
    }
   ],
   "source": [
    "# Read the name:\n",
    "name = input()\n",
    "\n",
    "# Print the result using:\n",
    "# print('Greeting', name)\n",
    "print('Hello'+',', name+'!')"
   ]
  },
  {
   "cell_type": "markdown",
   "metadata": {},
   "source": [
    "## Apple sharing\n",
    "N students take K apples and distribute them among each other evenly. The remaining (the undivisible) part remains in the basket. How many apples will each single student get? How many apples will remain in the basket?\n",
    "The program reads the numbers N and K. It should print the two answers for the questions above."
   ]
  },
  {
   "cell_type": "code",
   "execution_count": 7,
   "metadata": {},
   "outputs": [
    {
     "name": "stdout",
     "output_type": "stream",
     "text": [
      "6\n",
      "50\n",
      "8\n",
      "2\n"
     ]
    }
   ],
   "source": [
    "n = int(input())\n",
    "k = int(input())\n",
    "print(k//n)\n",
    "print(k%n)"
   ]
  },
  {
   "cell_type": "markdown",
   "metadata": {},
   "source": [
    "## Previous and next\n",
    "Write a program that reads an integer number and prints its previous and next numbers. See the examples below for the exact format your answers should take. There shouldn't be a space before the period.\n",
    "Remember that you can convert the numbers to strings using the function str."
   ]
  },
  {
   "cell_type": "code",
   "execution_count": 8,
   "metadata": {},
   "outputs": [
    {
     "name": "stdout",
     "output_type": "stream",
     "text": [
      "999\n",
      "The next number for the number 999 is 1000.\n",
      "The previous number for the number 999 is 998.\n"
     ]
    }
   ],
   "source": [
    "a = int(input())\n",
    "print(\"The next number for the number\", str(a),\"is\", str(a+1)+ '.')\n",
    "print(\"The previous number for the number\", str(a),\"is\", str(a-1)+ '.')"
   ]
  },
  {
   "cell_type": "markdown",
   "metadata": {},
   "source": [
    "## Two timestamps\n",
    "A timestamp is three numbers: a number of hours, minutes and seconds. Given two timestamps, calculate how many seconds is between them. The moment of the first timestamp occurred before the moment of the second timestamp."
   ]
  },
  {
   "cell_type": "code",
   "execution_count": 9,
   "metadata": {},
   "outputs": [
    {
     "name": "stdout",
     "output_type": "stream",
     "text": [
      "1\n",
      "1\n",
      "1\n",
      "2\n",
      "2\n",
      "2\n",
      "3661\n"
     ]
    }
   ],
   "source": [
    "h1 = int(input())\n",
    "m1 = int(input())\n",
    "s1 = int(input())\n",
    "h2 = int(input())\n",
    "m2 = int(input())\n",
    "s2 = int(input())\n",
    "hour = h2-h1\n",
    "minute = hour*60\n",
    "minute = minute+(m2-m1)\n",
    "second = minute*60\n",
    "second = second+(s2-s1)\n",
    "\n",
    "print(second)"
   ]
  },
  {
   "cell_type": "markdown",
   "metadata": {},
   "source": [
    "## School desks\n",
    "A school decided to replace the desks in three classrooms. Each desk sits two students. Given the number of students in each class, print the smallest possible number of desks that can be purchased.\n",
    "The program should read three integers: the number of students in each of the three classes, a, b and c respectively.\n",
    "\n",
    "In the first test there are three groups. The first group has 20 students and thus needs 10 desks. The second group has 21 students, so they can get by with no fewer than 11 desks. 11 desks is also enough for the third group of 22 students. So we need 32 desks in total."
   ]
  },
  {
   "cell_type": "code",
   "execution_count": 10,
   "metadata": {},
   "outputs": [
    {
     "name": "stdout",
     "output_type": "stream",
     "text": [
      "20\n",
      "21\n",
      "22\n",
      "32\n"
     ]
    }
   ],
   "source": [
    "a = int(input())\n",
    "b = int(input())\n",
    "c = int(input())\n",
    "\n",
    "if a%2==0:\n",
    "    a=a//2\n",
    "else:\n",
    "    a=a//2+1\n",
    "    \n",
    "if b%2==0:\n",
    "    b=b//2\n",
    "else:\n",
    "    b=b//2+1\n",
    "if c%2==0:\n",
    "    c=c//2\n",
    "else:\n",
    "    c=c//2+1\n",
    "    \n",
    "print(a+b+c)"
   ]
  },
  {
   "cell_type": "markdown",
   "metadata": {},
   "source": [
    "# Lesson 2 : Integer and float numbers"
   ]
  },
  {
   "cell_type": "markdown",
   "metadata": {},
   "source": [
    "## Last digit of integer\n",
    "Given an integer number, print its last digit."
   ]
  },
  {
   "cell_type": "code",
   "execution_count": 11,
   "metadata": {},
   "outputs": [
    {
     "name": "stdout",
     "output_type": "stream",
     "text": [
      "179\n",
      "9\n"
     ]
    }
   ],
   "source": [
    "a = int(input())\n",
    "last = a%10\n",
    "print(last)"
   ]
  },
  {
   "cell_type": "markdown",
   "metadata": {},
   "source": [
    "## Tens digit\n",
    "Given an integer. Print its tens digit."
   ]
  },
  {
   "cell_type": "code",
   "execution_count": 2,
   "metadata": {},
   "outputs": [
    {
     "name": "stdout",
     "output_type": "stream",
     "text": [
      "73\n",
      "7\n"
     ]
    }
   ],
   "source": [
    "a = int(input())\n",
    "print(str(a%100-a%10)[0])"
   ]
  },
  {
   "cell_type": "markdown",
   "metadata": {},
   "source": [
    "## Sum of digits\n",
    "Given a three-digit number. Find the sum of its digits."
   ]
  },
  {
   "cell_type": "code",
   "execution_count": 3,
   "metadata": {},
   "outputs": [
    {
     "name": "stdout",
     "output_type": "stream",
     "text": [
      "179\n",
      "17\n"
     ]
    }
   ],
   "source": [
    "a=int(input())\n",
    "# print(a//1000+a%100+a%10)\n",
    "print(a//100%100+a//10%10+a%10)"
   ]
  },
  {
   "cell_type": "markdown",
   "metadata": {},
   "source": [
    "## Fractional part\n",
    "Given a positive real number, print its fractional part."
   ]
  },
  {
   "cell_type": "code",
   "execution_count": 4,
   "metadata": {},
   "outputs": [
    {
     "name": "stdout",
     "output_type": "stream",
     "text": [
      "17.9\n",
      "0.8999999999999986\n"
     ]
    }
   ],
   "source": [
    "a = float(input())\n",
    "print(a%1)"
   ]
  },
  {
   "cell_type": "markdown",
   "metadata": {},
   "source": [
    "## First digit after decimal point\n",
    "Given a positive real number, print its first digit to the right of the decimal point."
   ]
  },
  {
   "cell_type": "code",
   "execution_count": 5,
   "metadata": {},
   "outputs": [
    {
     "name": "stdout",
     "output_type": "stream",
     "text": [
      "1.79\n",
      "7\n"
     ]
    }
   ],
   "source": [
    "a = float(input())\n",
    "print(str(a - int(a))[2])"
   ]
  },
  {
   "cell_type": "markdown",
   "metadata": {},
   "source": [
    "## Car route\n",
    "A car can cover distance of N kilometers per day. How many days will it take to cover a route of length M kilometers? The program gets two numbers: N and M."
   ]
  },
  {
   "cell_type": "code",
   "execution_count": 6,
   "metadata": {},
   "outputs": [
    {
     "name": "stdout",
     "output_type": "stream",
     "text": [
      "700\n",
      "750\n",
      "2\n"
     ]
    }
   ],
   "source": [
    "import math\n",
    "n = float(input())\n",
    "m = float(input())\n",
    "print(math.ceil(m/n))"
   ]
  },
  {
   "cell_type": "markdown",
   "metadata": {},
   "source": [
    "## Digital clock\n",
    "Given the integer N - the number of minutes that is passed since midnight - how many hours and minutes are displayed on the 24h digital clock?\n",
    "The program should print two numbers: the number of hours (between 0 and 23) and the number of minutes (between 0 and 59).\n",
    "\n",
    "For example, if N = 150, then 150 minutes have passed since midnight - i.e. now is 2:30 am. So the program should print 2 30."
   ]
  },
  {
   "cell_type": "code",
   "execution_count": 7,
   "metadata": {},
   "outputs": [
    {
     "name": "stdout",
     "output_type": "stream",
     "text": [
      "150\n",
      "2 30\n"
     ]
    }
   ],
   "source": [
    "a = int(input())\n",
    "print(a//60, a%60)"
   ]
  },
  {
   "cell_type": "markdown",
   "metadata": {},
   "source": [
    "## Total cost\n",
    "A cupcake costs A dollars and B cents. Determine, how many dollars and cents should one pay for N cupcakes. A program gets three numbers: A, B, N. It should print two numbers: total cost in dollars and cents."
   ]
  },
  {
   "cell_type": "code",
   "execution_count": 8,
   "metadata": {},
   "outputs": [
    {
     "name": "stdout",
     "output_type": "stream",
     "text": [
      "2\n",
      "50\n",
      "4\n",
      "10 0\n"
     ]
    }
   ],
   "source": [
    "a = int(input())\n",
    "b = int(input())\n",
    "n = int(input())\n",
    "\n",
    "cost = (a*100+b)*n\n",
    "\n",
    "print(cost//100, cost%100)"
   ]
  },
  {
   "cell_type": "markdown",
   "metadata": {},
   "source": [
    "## Clock face - 1\n",
    "H hours, M minutes and S seconds are passed since the midnight (0 ≤ H < 12, 0 ≤ M < 60, 0 ≤ S < 60). Determine the angle (in degrees) of the hour hand on the clock face right now.\n"
   ]
  },
  {
   "cell_type": "code",
   "execution_count": 9,
   "metadata": {},
   "outputs": [
    {
     "name": "stdout",
     "output_type": "stream",
     "text": [
      "1\n",
      "2\n",
      "6\n",
      "31.049999999999997\n"
     ]
    }
   ],
   "source": [
    "h = int(input())\n",
    "m = int(input())\n",
    "s = int(input())\n",
    "\n",
    "second = h*3600+m*60+s\n",
    "angle = second/(12*60*60)*360\n",
    "print(angle)"
   ]
  },
  {
   "cell_type": "markdown",
   "metadata": {},
   "source": [
    "## Clock face - 2\n",
    "Hour hand turned by α degrees since the midnight. Determine the angle by which minute hand turned since the start of the current hour. Input and output in this problems are floating-point numbers."
   ]
  },
  {
   "cell_type": "code",
   "execution_count": 10,
   "metadata": {},
   "outputs": [
    {
     "name": "stdout",
     "output_type": "stream",
     "text": [
      "190\n",
      "120.0\n"
     ]
    }
   ],
   "source": [
    "a = float(input())\n",
    "\n",
    "print((a%60/5*360/12*2)%360)\n",
    "# print((a%60)/360*12)"
   ]
  },
  {
   "cell_type": "markdown",
   "metadata": {},
   "source": [
    "# Lesson 3 : Conditions: if, then, else"
   ]
  },
  {
   "cell_type": "markdown",
   "metadata": {},
   "source": [
    "## Minimum of two numbers\n",
    "Given two integers, print the smaller value."
   ]
  },
  {
   "cell_type": "code",
   "execution_count": 11,
   "metadata": {},
   "outputs": [
    {
     "name": "stdout",
     "output_type": "stream",
     "text": [
      "3\n",
      "7\n",
      "3\n"
     ]
    }
   ],
   "source": [
    "a = int(input())\n",
    "b = int(input())\n",
    "if a<b:\n",
    "    print(a)\n",
    "else:\n",
    "    print(b)"
   ]
  },
  {
   "cell_type": "markdown",
   "metadata": {},
   "source": [
    "## Sign function\n",
    "For the given integer X print 1 if it's positive, -1 if it's negative, or 0 if it's equal to zero.\n",
    "Try to use the cascade if-elif-else for it."
   ]
  },
  {
   "cell_type": "code",
   "execution_count": 12,
   "metadata": {},
   "outputs": [
    {
     "name": "stdout",
     "output_type": "stream",
     "text": [
      "179\n",
      "1\n"
     ]
    }
   ],
   "source": [
    "a = int(input())\n",
    "if a>0:\n",
    "    print(1)\n",
    "elif a<0:\n",
    "    print(-1)\n",
    "else:\n",
    "    print(0)"
   ]
  },
  {
   "cell_type": "markdown",
   "metadata": {},
   "source": [
    "## Minimum of three numbers\n",
    "Given three integers, print the smallest value."
   ]
  },
  {
   "cell_type": "code",
   "execution_count": 13,
   "metadata": {},
   "outputs": [
    {
     "name": "stdout",
     "output_type": "stream",
     "text": [
      "5\n",
      "3\n",
      "7\n",
      "3\n"
     ]
    }
   ],
   "source": [
    "a = int(input())\n",
    "b = int(input())\n",
    "c = int(input())\n",
    "\n",
    "if a>b:\n",
    "    if b>c:\n",
    "        print(c)\n",
    "    else:\n",
    "        print(b)\n",
    "else:\n",
    "    if a>c:\n",
    "        print(c)\n",
    "    else:\n",
    "        print(a)"
   ]
  },
  {
   "cell_type": "markdown",
   "metadata": {},
   "source": [
    "## Equal numbers\n",
    "Given three integers, determine how many of them are equal to each other. The program must print one of these numbers: 3 (if all are the same), 2 (if two of them are equal to each other and the third is different) or 0 (if all numbers are different)."
   ]
  },
  {
   "cell_type": "code",
   "execution_count": 15,
   "metadata": {},
   "outputs": [
    {
     "name": "stdout",
     "output_type": "stream",
     "text": [
      "10\n",
      "5\n",
      "10\n",
      "2\n"
     ]
    }
   ],
   "source": [
    "a = int(input())\n",
    "b = int(input())\n",
    "c = int(input())\n",
    "\n",
    "if a==b==c:\n",
    "    print(3)\n",
    "elif a==b or b==c or c==a:\n",
    "    print(2)\n",
    "else:\n",
    "    print(0)"
   ]
  },
  {
   "cell_type": "markdown",
   "metadata": {},
   "source": [
    "## Rook move\n",
    "Chess rook moves horizontally or vertically. Given two different cells of the chessboard, determine whether a rook can go from the first cell to the second in one move.\n",
    "The program receives the input of four numbers from 1 to 8, each specifying the column and row number, first two - for the first cell, and then the last two - for the second cell. The program should output YES if a rook can go from the first cell to the second in one move, or NO otherwise."
   ]
  },
  {
   "cell_type": "code",
   "execution_count": 16,
   "metadata": {},
   "outputs": [
    {
     "name": "stdout",
     "output_type": "stream",
     "text": [
      "4\n",
      "4\n",
      "5\n",
      "5\n",
      "NO\n"
     ]
    }
   ],
   "source": [
    "x1 = int(input())\n",
    "y1 = int(input())\n",
    "x2 = int(input())\n",
    "y2 = int(input())\n",
    "\n",
    "if x2<=8 and y2<=8:\n",
    "    if x1 == x2 and y1 != y2:\n",
    "        print('YES')\n",
    "    elif x1 != x2 and y1 == y2:\n",
    "        print('YES')\n",
    "    else:\n",
    "        print('NO')\n",
    "else:\n",
    "    print('NO')"
   ]
  },
  {
   "cell_type": "markdown",
   "metadata": {},
   "source": [
    "## Chess board - same color\n",
    "Given two cells of a chessboard. If they are painted in one color, print the word YES, and if in a different color - NO.\n",
    "The program receives the input of four numbers from 1 to 8, each specifying the column and row number, first two - for the first cell, and then the last two - for the second cell."
   ]
  },
  {
   "cell_type": "code",
   "execution_count": 17,
   "metadata": {},
   "outputs": [
    {
     "name": "stdout",
     "output_type": "stream",
     "text": [
      "1\n",
      "1\n",
      "2\n",
      "6\n",
      "YES\n"
     ]
    }
   ],
   "source": [
    "x1 = int(input())\n",
    "y1 = int(input())\n",
    "x2 = int(input())\n",
    "y2 = int(input())\n",
    "\n",
    "if (x1+y1)%2==1 and (x2+y2)%2==1 :\n",
    "    print('YES')\n",
    "elif (x1+y1)%2==0 and (x2+y2)%2==0 :\n",
    "    print('YES')\n",
    "else:\n",
    "    print('NO')"
   ]
  },
  {
   "cell_type": "markdown",
   "metadata": {},
   "source": [
    "## King move\n",
    "Chess king moves horizontally, vertically or diagonally to any adjacent cell. Given two different cells of the chessboard, determine whether a king can go from the first cell to the second in one move.\n",
    "The program receives the input of four numbers from 1 to 8, each specifying the column and row number, first two - for the first cell, and then the last two - for the second cell. The program should output YES if a king can go from the first cell to the second in one move, or NO otherwise."
   ]
  },
  {
   "cell_type": "code",
   "execution_count": 18,
   "metadata": {},
   "outputs": [
    {
     "name": "stdout",
     "output_type": "stream",
     "text": [
      "4\n",
      "4\n",
      "5\n",
      "5\n",
      "YES\n"
     ]
    }
   ],
   "source": [
    "x1 = int(input())\n",
    "y1 = int(input())\n",
    "x2 = int(input())\n",
    "y2 = int(input())\n",
    "\n",
    "if abs(x2-x1) <= 1 and abs(y2-y1) <= 1:\n",
    "    print('YES')\n",
    "else:\n",
    "    print('NO')"
   ]
  },
  {
   "cell_type": "markdown",
   "metadata": {},
   "source": [
    "## Bishop moves\n",
    "In chess, the bishop moves diagonally, any number of squares. Given two different squares of the chessboard, determine whether a bishop can go from the first to the second in one move.\n",
    "The program receives as input four numbers from 1 to 8, specifying the column and row numbers of the starting square and the column and row numbers of the ending square. The program should output YES if a Bishop can go from the first square to the second in one move, or NO otherwise."
   ]
  },
  {
   "cell_type": "code",
   "execution_count": 19,
   "metadata": {},
   "outputs": [
    {
     "name": "stdout",
     "output_type": "stream",
     "text": [
      "4\n",
      "4\n",
      "5\n",
      "5\n",
      "YES\n"
     ]
    }
   ],
   "source": [
    "x1 = int(input())\n",
    "y1 = int(input())\n",
    "x2 = int(input())\n",
    "y2 = int(input())\n",
    "\n",
    "if abs(x2-x1) == abs(y2-y1):\n",
    "    print('YES')\n",
    "else:\n",
    "    print('NO')"
   ]
  },
  {
   "cell_type": "markdown",
   "metadata": {},
   "source": [
    "## Queen move\n",
    "Chess queen moves horizontally, vertically or diagonally to any number of cells. Given two different cells of the chessboard, determine whether a queen can go from the first cell to the second in one move.\n",
    "The program receives the input of four numbers from 1 to 8, each specifying the column and row number, first two - for the first cell, and then the last two - for the second cell. The program should output YES if a queen can go from the first cell to the second in one move, or NO otherwise."
   ]
  },
  {
   "cell_type": "code",
   "execution_count": 20,
   "metadata": {},
   "outputs": [
    {
     "name": "stdout",
     "output_type": "stream",
     "text": [
      "1\n",
      "1\n",
      "2\n",
      "2\n",
      "YES\n"
     ]
    }
   ],
   "source": [
    "x1 = int(input())\n",
    "y1 = int(input())\n",
    "x2 = int(input())\n",
    "y2 = int(input())\n",
    "\n",
    "if abs(x2-x1) == abs(y2-y1) or x1==x2 or y1==y2:\n",
    "    print('YES')\n",
    "else:\n",
    "    print('NO')"
   ]
  },
  {
   "cell_type": "markdown",
   "metadata": {},
   "source": [
    "## Knight move\n",
    "Chess knight moves like the letter L. It can move two cells horizontally and one cell vertically, or two cells vertically and one cells horizontally. Given two different cells of the chessboard, determine whether a knight can go from the first cell to the second in one move.\n",
    "The program receives the input of four numbers from 1 to 8, each specifying the column and row number, first two - for the first cell, and then the last two - for the second cell. The program should output YES if a knight can go from the first cell to the second in one move, or NO otherwise."
   ]
  },
  {
   "cell_type": "code",
   "execution_count": 21,
   "metadata": {},
   "outputs": [
    {
     "name": "stdout",
     "output_type": "stream",
     "text": [
      "1\n",
      "1\n",
      "1\n",
      "4\n",
      "NO\n"
     ]
    }
   ],
   "source": [
    "x1 = int(input())\n",
    "y1 = int(input())\n",
    "x2 = int(input())\n",
    "y2 = int(input())\n",
    "\n",
    "if abs(x2-x1) == 1 and abs(y2-y1) == 2:\n",
    "    print('YES')\n",
    "elif abs(x2-x1) == 2 and abs(y2-y1) == 1:\n",
    "    print('YES')\n",
    "else:\n",
    "    print('NO')"
   ]
  },
  {
   "cell_type": "markdown",
   "metadata": {},
   "source": [
    "## Chocolate bar\n",
    "Chocolate bar has the form of a rectangle divided into n×m portions. Chocolate bar can be split into two rectangular parts by breaking it along a selected straight line on its pattern. Determine whether it is possible to split it so that one of the parts will have exactly k squares.\n",
    "The program reads three integers: n, m, and k. It should print YES or NO."
   ]
  },
  {
   "cell_type": "code",
   "execution_count": 22,
   "metadata": {},
   "outputs": [
    {
     "name": "stdout",
     "output_type": "stream",
     "text": [
      "4\n",
      "2\n",
      "6\n",
      "YES\n"
     ]
    }
   ],
   "source": [
    "n = int(input())\n",
    "m = int(input())\n",
    "k = int(input())\n",
    "\n",
    "if k < n * m and ((k % n == 0) or (k % m == 0)):\n",
    "    print('YES')\n",
    "else:\n",
    "    print('NO')"
   ]
  },
  {
   "cell_type": "markdown",
   "metadata": {},
   "source": [
    "## Leap year\n",
    "Given the year number. You need to check if this year is a leap year. If it is, print LEAP, otherwise print COMMON.\n",
    "The rules in Gregorian calendar are as follows:\n",
    "\n",
    "a year is a leap year if its number is exactly divisible by 4 and is not exactly divisible by 100\n",
    "a year is always a leap year if its number is exactly divisible by 400\n",
    "Warning. The words LEAP and COMMON should be printed all caps."
   ]
  },
  {
   "cell_type": "code",
   "execution_count": 23,
   "metadata": {},
   "outputs": [
    {
     "name": "stdout",
     "output_type": "stream",
     "text": [
      "2012\n",
      "LEAP\n"
     ]
    }
   ],
   "source": [
    "a = int(input())\n",
    "\n",
    "if a%4==0 and a%100!=0 or a%400==0:\n",
    "    print('LEAP')\n",
    "else:\n",
    "    print('COMMON')"
   ]
  },
  {
   "cell_type": "markdown",
   "metadata": {},
   "source": [
    "# Lesson 4 : For loop with range"
   ]
  },
  {
   "cell_type": "markdown",
   "metadata": {},
   "source": [
    "## Series - 1\n",
    "Given two integers A and B (A ≤ B). Print all numbers from A to B inclusively."
   ]
  },
  {
   "cell_type": "code",
   "execution_count": 24,
   "metadata": {},
   "outputs": [
    {
     "name": "stdout",
     "output_type": "stream",
     "text": [
      "1\n",
      "10\n",
      "1\n",
      "2\n",
      "3\n",
      "4\n",
      "5\n",
      "6\n",
      "7\n",
      "8\n",
      "9\n",
      "10\n"
     ]
    }
   ],
   "source": [
    "a = int(input())\n",
    "b = int(input())\n",
    "\n",
    "for i in range(a, b+1):\n",
    "    print(i)"
   ]
  },
  {
   "cell_type": "markdown",
   "metadata": {},
   "source": [
    "## Series - 2\n",
    "Given two integers A and B. Print all numbers from A to B inclusively, in ascending order, if A < B, or in descending order, if A ≥ B."
   ]
  },
  {
   "cell_type": "code",
   "execution_count": 26,
   "metadata": {},
   "outputs": [
    {
     "name": "stdout",
     "output_type": "stream",
     "text": [
      "1\n",
      "10\n",
      "1\n",
      "2\n",
      "3\n",
      "4\n",
      "5\n",
      "6\n",
      "7\n",
      "8\n",
      "9\n",
      "10\n"
     ]
    }
   ],
   "source": [
    "a = int(input())\n",
    "b = int(input())\n",
    "\n",
    "\n",
    "\n",
    "if (b>a):\n",
    "    for i in range(a, b+1):\n",
    "        print(i)\n",
    "else:\n",
    "    # for i in range(a-b+1):\n",
    "    #     print(a-i)\n",
    "    for i in range(a, b - 1, -1):\n",
    "        print(i)"
   ]
  },
  {
   "cell_type": "markdown",
   "metadata": {},
   "source": [
    "## Sum of ten numbers\n",
    "10 numbers are given in the input. Read them and print their sum. Use as few variables as you can."
   ]
  },
  {
   "cell_type": "code",
   "execution_count": 27,
   "metadata": {},
   "outputs": [
    {
     "name": "stdout",
     "output_type": "stream",
     "text": [
      "0\n",
      "1\n",
      "2\n",
      "3\n",
      "4\n",
      "5\n",
      "6\n",
      "7\n",
      "8\n",
      "9\n",
      "45\n"
     ]
    }
   ],
   "source": [
    "a=0\n",
    "for i in range(10):\n",
    "    a = int(input()) + a\n",
    "print(a)"
   ]
  },
  {
   "cell_type": "markdown",
   "metadata": {},
   "source": [
    "## Sum of N numbers\n",
    "N numbers are given in the input. Read them and print their sum.\n",
    "The first line of input contains the integer N, which is the number of integers to follow. Each of the next N lines contains one integer. Print the sum of these N integers."
   ]
  },
  {
   "cell_type": "code",
   "execution_count": 28,
   "metadata": {},
   "outputs": [
    {
     "name": "stdout",
     "output_type": "stream",
     "text": [
      "10\n",
      "1\n",
      "1\n",
      "2\n",
      "3\n",
      "1\n",
      "1\n",
      "2\n",
      "1\n",
      "2\n",
      "3\n",
      "17\n"
     ]
    }
   ],
   "source": [
    "n = int(input())\n",
    "sumofn=0\n",
    "for i in range(n):\n",
    "    sumofn += int(input())\n",
    "print(sumofn)"
   ]
  },
  {
   "cell_type": "markdown",
   "metadata": {},
   "source": [
    "## Sum of cubes\n",
    "For the given integer N calculate the following sum: 13+23+…+N3"
   ]
  },
  {
   "cell_type": "code",
   "execution_count": 29,
   "metadata": {},
   "outputs": [
    {
     "name": "stdout",
     "output_type": "stream",
     "text": [
      "3\n",
      "36\n"
     ]
    }
   ],
   "source": [
    "n = int(input())\n",
    "cube = 0\n",
    "for i in range (n):\n",
    "    cube += (i+1)**3\n",
    "print(cube)"
   ]
  },
  {
   "cell_type": "markdown",
   "metadata": {},
   "source": [
    "## Factorial\n",
    "In mathematics, the factorial of an integer n, denoted by n! is the following product:\n",
    "n!=1×2×…×n\n",
    "For the given integer n calculate the value n!. Don't use math module in this exercise."
   ]
  },
  {
   "cell_type": "code",
   "execution_count": 30,
   "metadata": {},
   "outputs": [
    {
     "name": "stdout",
     "output_type": "stream",
     "text": [
      "4\n",
      "24\n"
     ]
    }
   ],
   "source": [
    "fac = 1\n",
    "for i in range(1, int(input()) + 1):\n",
    "    fac *= i \n",
    "print(fac)"
   ]
  },
  {
   "cell_type": "markdown",
   "metadata": {},
   "source": [
    "## The number of zeros\n",
    "Given N numbers: the first number in the input is N, after that N integers are given. Count the number of zeros among the given integers and print it.\n",
    "You need to count the number of numbers that are equal to zero, not the number of zero digits."
   ]
  },
  {
   "cell_type": "code",
   "execution_count": 31,
   "metadata": {},
   "outputs": [
    {
     "name": "stdout",
     "output_type": "stream",
     "text": [
      "5\n",
      "0\n",
      "700\n",
      "0\n",
      "200\n",
      "0\n",
      "3\n"
     ]
    }
   ],
   "source": [
    "count = 0\n",
    "for i in range(1, int(input()) + 1):\n",
    "    if int(input())==0:\n",
    "        count += 1\n",
    "print(count)"
   ]
  },
  {
   "cell_type": "markdown",
   "metadata": {},
   "source": [
    "## Adding factorials\n",
    "Given an integer n, print the sum 1!+2!+3!+...+n!.\n",
    "This problem has a solution with only one loop, so try to discover it. And don't use the math library :)"
   ]
  },
  {
   "cell_type": "code",
   "execution_count": 32,
   "metadata": {},
   "outputs": [
    {
     "name": "stdout",
     "output_type": "stream",
     "text": [
      "1\n",
      "1\n"
     ]
    }
   ],
   "source": [
    "n = int(input())\n",
    "sumoffac = 0\n",
    "for i in range(1, n+1):\n",
    "    fac = 1\n",
    "    for j in range(1,i+1):\n",
    "        fac *= j\n",
    "    sumoffac += fac\n",
    "print(sumoffac)"
   ]
  },
  {
   "cell_type": "markdown",
   "metadata": {},
   "source": [
    "## Ladder\n",
    "For given integer n ≤ 9 print a ladder of n steps. The k-th step consists of the integers from 1 to k without spaces between them.\n",
    "To do that, you can use the sep and end arguments for the function print()."
   ]
  },
  {
   "cell_type": "code",
   "execution_count": 33,
   "metadata": {},
   "outputs": [
    {
     "name": "stdout",
     "output_type": "stream",
     "text": [
      "3\n",
      "1\n",
      "12\n",
      "123\n"
     ]
    }
   ],
   "source": [
    "n = int(input())\n",
    "ladder = str()\n",
    "for i in range(1, n+1):\n",
    "    ladder += str(i)\n",
    "    print(ladder)\n",
    "    \n",
    "# n = int(input())\n",
    "# for i in range(1, n + 1):\n",
    "#     for j in range(1, i + 1):\n",
    "#         print(j, sep='', end='')\n",
    "#     print()"
   ]
  },
  {
   "cell_type": "markdown",
   "metadata": {},
   "source": [
    "## Lost card\n",
    "There was a set of cards with numbers from 1 to N. One of the card is now lost. Determine the number on that lost card given the numbers for the remaining cards.\n",
    "Given a number N, followed by N − 1 integers - representing the numbers on the remaining cards (distinct integers in the range from 1 to N). Find and print the number on the lost card."
   ]
  },
  {
   "cell_type": "markdown",
   "metadata": {},
   "source": [
    "# Lesson 5 : Strings"
   ]
  },
  {
   "cell_type": "markdown",
   "metadata": {},
   "source": [
    "## Slices\n",
    "You are given a string.\n",
    "In the first line, print the third character of this string.\n",
    "\n",
    "In the second line, print the second to last character of this string.\n",
    "\n",
    "In the third line, print the first five characters of this string.\n",
    "\n",
    "In the fourth line, print all but the last two characters of this string.\n",
    "\n",
    "In the fifth line, print all the characters of this string with even indices (remember indexing starts at 0, so the characters are displayed starting with the first).\n",
    "\n",
    "In the sixth line, print all the characters of this string with odd indices (i.e. starting with the second character in the string).\n",
    "\n",
    "In the seventh line, print all the characters of the string in reverse order.\n",
    "\n",
    "In the eighth line, print every second character of the string in reverse order, starting from the last one.\n",
    "\n",
    "In the ninth line, print the length of the given string."
   ]
  },
  {
   "cell_type": "code",
   "execution_count": 34,
   "metadata": {},
   "outputs": [
    {
     "name": "stdout",
     "output_type": "stream",
     "text": [
      "Abrakadabra\n",
      "r\n",
      "r\n",
      "Abrak\n",
      "Abrakadab\n",
      "Arkdba\n",
      "baaar\n"
     ]
    }
   ],
   "source": [
    "a = input()\n",
    "print(a[2])\n",
    "print(a[-2])\n",
    "print(a[0:5])\n",
    "print(a[:-2])\n",
    "print(a[0::2])\n",
    "print(a[1::2])"
   ]
  },
  {
   "cell_type": "markdown",
   "metadata": {},
   "source": [
    "## The number of words\n",
    "Given a string consisting of words separated by spaces. Determine how many words it has. To solve the problem, use the method count."
   ]
  },
  {
   "cell_type": "code",
   "execution_count": 35,
   "metadata": {},
   "outputs": [
    {
     "name": "stdout",
     "output_type": "stream",
     "text": [
      "Hello World\n",
      "2\n"
     ]
    }
   ],
   "source": [
    "a = input()\n",
    "print(len(a.split()))\n",
    "\n",
    "# print(input().count(' ')+1)"
   ]
  },
  {
   "cell_type": "markdown",
   "metadata": {},
   "source": [
    "## The two halves\n",
    "Given a string. Cut it into two \"equal\" parts (If the length of the string is odd, place the center character in the first string, so that the first string contains one more characther than the second). Now print a new string on a single row with the first and second halfs interchanged (second half first and the first half second)\n",
    "Don't use the statement if in this task."
   ]
  },
  {
   "cell_type": "code",
   "execution_count": 37,
   "metadata": {},
   "outputs": [
    {
     "name": "stdout",
     "output_type": "stream",
     "text": [
      "abakradabajjdha\n",
      "bajjdhaabakrada\n"
     ]
    }
   ],
   "source": [
    "import math\n",
    "\n",
    "a = input()\n",
    "# print(a[int(math.floor(len(a))/2):]+a[:int(math.ceil(len(a)//2))])\n",
    "# print(len(a))\n",
    "# print(a[math.floor(len(a)/2)+1:])\n",
    "# print(math.floor(len(a)/2)-1)\n",
    "if len(a)%2 == 0:\n",
    "    print(a[math.floor(len(a)/2):]+a[:math.ceil(len(a)/2)])\n",
    "else :\n",
    "    print(a[math.floor(len(a)/2)+1:]+a[:math.ceil(len(a)/2)])"
   ]
  },
  {
   "cell_type": "markdown",
   "metadata": {},
   "source": [
    "# Lesson 6 : While loop"
   ]
  },
  {
   "cell_type": "markdown",
   "metadata": {},
   "source": [
    "## The power of two\n",
    "For a given integer N, find the greatest integer x where 2x is less than or equal to N. Print the exponent value and the result of the expression 2x.\n",
    "Don't use the operation **."
   ]
  },
  {
   "cell_type": "code",
   "execution_count": 38,
   "metadata": {},
   "outputs": [
    {
     "name": "stdout",
     "output_type": "stream",
     "text": [
      "50\n",
      "5\n",
      "32\n"
     ]
    }
   ],
   "source": [
    "n = int(input())\n",
    "i = 1\n",
    "while 2**i<=n:\n",
    "    i+=1\n",
    "    \n",
    "print(i-1)\n",
    "print(2**(i-1))\n"
   ]
  },
  {
   "cell_type": "markdown",
   "metadata": {},
   "source": [
    "# Lesson 7 : Lists"
   ]
  },
  {
   "cell_type": "markdown",
   "metadata": {},
   "source": [
    "## The largest element\n",
    "Given a list of numbers. Determine the element in the list with the largest value. Print the value of the largest element and then the index number. If the highest element is not unique, print the index of the first instance."
   ]
  },
  {
   "cell_type": "code",
   "execution_count": 39,
   "metadata": {},
   "outputs": [
    {
     "name": "stdout",
     "output_type": "stream",
     "text": [
      "1 2 3 2 1\n",
      "3 2\n"
     ]
    }
   ],
   "source": [
    "import math\n",
    "\n",
    "a = [int(s) for s in input().split()]\n",
    "# print(a)\n",
    "\n",
    "count = 0\n",
    "maxnum = -math.inf\n",
    "index = 0\n",
    "for i in range(len(a)):\n",
    "    if a[i]>maxnum:\n",
    "        maxnum = a[i]\n",
    "        if index!=i:\n",
    "            index = i\n",
    "    \n",
    "print(maxnum, index)"
   ]
  },
  {
   "cell_type": "markdown",
   "metadata": {},
   "source": [
    "# Lesson 8 : Functions and recursion"
   ]
  },
  {
   "cell_type": "markdown",
   "metadata": {},
   "source": [
    "## Uppercase\n",
    "Write a function capitalize(lower_case_word) that takes the lower case word and returns the word with the first letter capitalized. Eg., print(capitalize('word')) should print the word Word.\n",
    "Then, given a line of lowercase ASCII words (text separated by a single space), print it with the first letter of each word capitalized using the your own function capitalize().\n",
    "\n",
    "In Python there is a function ord(character), which returns character code in the ASCII chart, and the function chr(code), which returns the character itself from the ASCII code. For example, ord('a') == 97, chr(97) == 'a'."
   ]
  },
  {
   "cell_type": "code",
   "execution_count": 40,
   "metadata": {},
   "outputs": [
    {
     "name": "stdout",
     "output_type": "stream",
     "text": [
      "harry potter\n",
      "Harry Potter \n"
     ]
    }
   ],
   "source": [
    "def capitalize(a):\n",
    "    a = a.split()\n",
    "    new_str = \"\"\n",
    "    for i in a:\n",
    "        new_str += chr(ord(i[0])-32)+i[1:]+\" \"\n",
    "    return new_str\n",
    "    \n",
    "a = input()\n",
    "print(capitalize(a))\n",
    "# print(chr(ord(a[0])-32)+a[1:])\n",
    "\n",
    "# print(ord('a')-ord('A'))\n",
    "\n",
    "# def capitalize(word):\n",
    "#     first_letter_small = word[0]\n",
    "#     first_letter_big = chr(ord(first_letter_small) - ord('a') + ord('A'))\n",
    "#     return first_letter_big + word[1:]\n",
    "\n",
    "# source = input().split()\n",
    "# res = []\n",
    "# for word in source:\n",
    "#     res.append(capitalize(word))\n",
    "# print(' '.join(res))"
   ]
  },
  {
   "cell_type": "markdown",
   "metadata": {},
   "source": [
    "# Lesson 9 : Two-dimensional lists (arrays)"
   ]
  },
  {
   "cell_type": "markdown",
   "metadata": {},
   "source": [
    "## Snowflake\n",
    "Given an odd number integer n, produce a two-dimensional array of size (n×n). Fill each element with a single character string of \".\" . Then fill the middle row, the middle column and the diagnals with the single character string of \"*\" (an image of a snow flake). Print the array elements in (n×n) rows and columns and separate the characters with a single space."
   ]
  },
  {
   "cell_type": "code",
   "execution_count": 41,
   "metadata": {},
   "outputs": [
    {
     "name": "stdout",
     "output_type": "stream",
     "text": [
      "5\n",
      "* . * . *\n",
      ". * * * .\n",
      "* * * * *\n",
      ". * * * .\n",
      "* . * . *\n"
     ]
    }
   ],
   "source": [
    "n = int(input())\n",
    "a = [['.'] * n for i in range(n)]\n",
    "for i in range(n):\n",
    "    for j in range(n):\n",
    "        a[i][j] = \".\"\n",
    "        if i == (len(a))//2:\n",
    "            a[i][j]=\"*\"\n",
    "        if j == (len(a))//2:\n",
    "            a[i][j]=\"*\"\n",
    "    a[i][i] = \"*\"\n",
    "    a[i][n-1-i] = \"*\"\n",
    "for row in a:\n",
    "    print(' '.join([str(elem) for elem in row]))\n",
    "    \n",
    "# n = int(input())\n",
    "# a = [['.'] * n for i in range(n)]\n",
    "# for i in range(n):\n",
    "#     a[i][i] = '*'\n",
    "#     a[n // 2][i] = '*'\n",
    "#     a[i][n // 2] = '*'\n",
    "#     a[i][n - i - 1] = '*'\n",
    "# for row in a:\n",
    "#     print(' '.join(row))"
   ]
  },
  {
   "cell_type": "markdown",
   "metadata": {},
   "source": [
    "# Lesson 10 : Sets"
   ]
  },
  {
   "cell_type": "markdown",
   "metadata": {},
   "source": [
    "## The number of distinct numbers\n",
    "Given a list of integers. Determine how many distinct numbers there are.\n",
    "This task can be solved in one line of code."
   ]
  },
  {
   "cell_type": "code",
   "execution_count": 42,
   "metadata": {},
   "outputs": [
    {
     "name": "stdout",
     "output_type": "stream",
     "text": [
      "1 2 3 2 1\n",
      "3\n"
     ]
    }
   ],
   "source": [
    "# a = [int(s) for s in input().split()]\n",
    "# print(a)\n",
    "# count=0\n",
    "# for i in a:\n",
    "#     for j in a:\n",
    "#         if i==j:\n",
    "#             count = count+1\n",
    "# print(count)\n",
    "\n",
    "print(len(list(set([int(s) for s in input().split()]))))\n",
    "\n",
    "# print(len(set(input().split())))\n"
   ]
  },
  {
   "cell_type": "markdown",
   "metadata": {},
   "source": [
    "# Lesson 11 : Dictionaries"
   ]
  },
  {
   "cell_type": "markdown",
   "metadata": {},
   "source": [
    "## Elections in the USA\n",
    "As you know, the president of USA is elected not by direct vote, but through a two-step voting. First elections are held in each state and determine the winner of elections in that state. Thereafter, the state election is going: in this election, every state has a certain the number of votes — the number of electors from that state. In practice, all the electors from the state of voted in accordance with the results of the vote within a state.\n",
    "The first line contains the number of records. After that, each entry contains the name of the candidate and the number of votes they got in one of the states. Count the total results of the elections: sum the number of votes for each candidate. Print candidates in the alphabetical order."
   ]
  },
  {
   "cell_type": "code",
   "execution_count": 43,
   "metadata": {},
   "outputs": [
    {
     "name": "stdout",
     "output_type": "stream",
     "text": [
      "5\n",
      "McCain 10\n",
      "McCain 5\n",
      "Obama 9\n",
      "Obama 8\n",
      "McCain 1\n",
      "McCain 16\n",
      "Obama 17\n"
     ]
    }
   ],
   "source": [
    "n = int(input())\n",
    "my_dict = dict()\n",
    "for i in range(n):\n",
    "    user_input = input()\n",
    "    key, value = user_input.split(\" \")\n",
    "    if key in my_dict:\n",
    "        my_dict[key] += int(value)\n",
    "    else:\n",
    "        my_dict[key] = int(value)\n",
    "        \n",
    "for i in sorted(my_dict.keys()):\n",
    "    print (i, my_dict[i])\n",
    "    \n",
    "# num_votes = {}\n",
    "# for _ in range(int(input())):\n",
    "#     candidate, votes = input().split()\n",
    "#     num_votes[candidate] = num_votes.get(candidate, 0) + int(votes)\n",
    "\n",
    "# for candidate, votes in sorted(num_votes.items()):\n",
    "#     print(candidate, votes)"
   ]
  },
  {
   "cell_type": "markdown",
   "metadata": {},
   "source": [
    "## English-Latin dictionary\n",
    "One day, going through old books in the attic, a student Bob found English-Latin dictionary. By that time he spoke English fluently, and his dream was to learn Latin. So finding the dictionary was just in time.\n",
    "Unfortunately, full-fledged language studying process requires also another type of dictionary: Latin-English. For lack of a better way he decided to make a second dictionary using the first one.\n",
    "\n",
    "As you know, the dictionary consists of words, each of which contains multiple translations. For each Latin word that appears anywhere in the dictionary, Bob has to find all its translations (that is, all English words, for which our Latin word is among its translations), and take them and only them as the translations of this Latin word.\n",
    "\n",
    "Help him to create a Latin-English.\n",
    "\n",
    "The first line contains a single integer N — the number of English words in the dictionary. Followed by N dictionary entries. Each entry is contained on a separate line, which contains first the English word, then a hyphen surrounded by spaces and then comma-separated list with the translations of this English word in Latin. All the words consist only of lowercase English letters. The translations are sorted in lexicographical order. The order of English words in the dictionary is also lexicographic.\n",
    "\n",
    "Print the corresponding Latin-English dictionary in the same format. In particular, the first word line should be the lexicographically minimal translation of the Latin word, then second in that order, etc. Inside the line the English words should be sorted also lexicographically."
   ]
  },
  {
   "cell_type": "code",
   "execution_count": 44,
   "metadata": {},
   "outputs": [
    {
     "name": "stdout",
     "output_type": "stream",
     "text": [
      "3\n",
      "apple - malum, pomum, popula\n",
      "fruit - baca, bacca, popum\n",
      "punishment - malum, multa\n",
      "7\n",
      "baca - fruit\n",
      "bacca - fruit\n",
      "malum - apple, punishment\n",
      "multa - punishment\n",
      "pomum - apple\n",
      "popula - apple\n",
      "popum - fruit\n"
     ]
    }
   ],
   "source": [
    "latin_eng = {}\n",
    "for _ in range(int(input())):\n",
    "    eng, *latin = input().replace('- ', '').replace(',', '').split()\n",
    "    # print(eng, latin)\n",
    "    for la_word in latin:\n",
    "        if la_word not in latin_eng.keys():\n",
    "            latin_eng[la_word] = []\n",
    "        latin_eng[la_word].append(eng)\n",
    "    \n",
    "print(len(latin_eng))\n",
    "for w in sorted(latin_eng.keys()):                            \n",
    "  print(w, '-', ', '.join(sorted(list(set(latin_eng[w])))))   \n",
    "  \n",
    "#  from collections import defaultdict\n",
    "\n",
    "# latin_to_english = defaultdict(list)\n",
    "# for i in range(int(input())):\n",
    "#     english_word, latin_translations_chunk = input().split(' - ')\n",
    "#     latin_translations = latin_translations_chunk.split(', ')\n",
    "#     for latin_word in latin_translations:\n",
    "#         latin_to_english[latin_word].append(english_word)\n",
    "    \n",
    "# print(len(latin_to_english))\n",
    "# for latin_word, english_translations in sorted(latin_to_english.items()):\n",
    "#     print(latin_word + ' - ' + ', '.join(english_translations))"
   ]
  },
  {
   "cell_type": "code",
   "execution_count": null,
   "metadata": {},
   "outputs": [],
   "source": []
  }
 ],
 "metadata": {
  "kernelspec": {
   "display_name": "Python 3",
   "language": "python",
   "name": "python3"
  },
  "language_info": {
   "codemirror_mode": {
    "name": "ipython",
    "version": 3
   },
   "file_extension": ".py",
   "mimetype": "text/x-python",
   "name": "python",
   "nbconvert_exporter": "python",
   "pygments_lexer": "ipython3",
   "version": "3.8.1"
  }
 },
 "nbformat": 4,
 "nbformat_minor": 4
}
